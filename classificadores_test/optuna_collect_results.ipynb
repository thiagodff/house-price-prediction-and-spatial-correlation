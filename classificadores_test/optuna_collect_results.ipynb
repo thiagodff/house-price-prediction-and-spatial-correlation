{
 "cells": [
  {
   "cell_type": "code",
   "execution_count": 4,
   "metadata": {},
   "outputs": [],
   "source": [
    "import pandas as pd\n",
    "import glob"
   ]
  },
  {
   "cell_type": "code",
   "execution_count": 5,
   "metadata": {},
   "outputs": [],
   "source": [
    "FOLDER = 'optuna_studies'\n",
    "num_items = 1\n",
    "feature_selectors_list = ['OneR', 'PCA', 'ANOVA', 'InfoGain', 'pearson', 'spearman']\n",
    "columns = ['value', 'params', 'duration']"
   ]
  },
  {
   "cell_type": "code",
   "execution_count": 6,
   "metadata": {},
   "outputs": [],
   "source": [
    "output_df=None\n",
    "for feature_selector in feature_selectors_list:\n",
    "    # Listar arquivos da pasta\n",
    "    path = f\"{FOLDER}/{feature_selector}/*\"\n",
    "    files = glob.glob(path, recursive=True)\n",
    "\n",
    "    for file in files:\n",
    "        # Pegar nome do modelo e k\n",
    "        modelo = file.split(sep='_k')[0].split(sep='\\\\')[-1]\n",
    "        k = file.split(sep='_k')[-1].split(sep='.')[0]\n",
    "\n",
    "        # Abrir csv\n",
    "        df = pd.read_csv(file)\n",
    "\n",
    "        # Concatenar params em uma unica coluna\n",
    "        df['params'] = df[df.columns[5:-2]].apply(\n",
    "            lambda x: ','.join(x.dropna().astype(str)),\n",
    "            axis=1\n",
    "        )\n",
    "\n",
    "        \n",
    "        # Filtrar apenas colunas de interesse\n",
    "        it_df = df[0:num_items][columns]\n",
    "        it_df['modelo'] = [modelo] * (num_items)\n",
    "        it_df['feature selector'] = [feature_selector] * (num_items)\n",
    "        it_df['k'] = [k] * (num_items)\n",
    "\n",
    "        it_df.rename(columns = {'value': 'accuracy'}, inplace=True)\n",
    "\n",
    "        # Concatenar ao df final\n",
    "        if output_df is None:\n",
    "            output_df = it_df\n",
    "\n",
    "        else:\n",
    "            output_df = pd.concat([output_df, it_df])"
   ]
  },
  {
   "cell_type": "code",
   "execution_count": 4,
   "metadata": {},
   "outputs": [],
   "source": [
    "output_df.to_csv('EMOTIONS_results.csv', index=False)"
   ]
  },
  {
   "cell_type": "code",
   "execution_count": null,
   "metadata": {},
   "outputs": [],
   "source": []
  }
 ],
 "metadata": {
  "kernelspec": {
   "display_name": "Python 3",
   "language": "python",
   "name": "python3"
  },
  "language_info": {
   "codemirror_mode": {
    "name": "ipython",
    "version": 3
   },
   "file_extension": ".py",
   "mimetype": "text/x-python",
   "name": "python",
   "nbconvert_exporter": "python",
   "pygments_lexer": "ipython3",
   "version": "3.10.10"
  }
 },
 "nbformat": 4,
 "nbformat_minor": 4
}
